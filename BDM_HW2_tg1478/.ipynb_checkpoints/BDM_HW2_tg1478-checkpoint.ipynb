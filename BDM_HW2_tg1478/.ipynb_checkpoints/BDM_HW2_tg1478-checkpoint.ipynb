{
 "cells": [
  {
   "cell_type": "markdown",
   "metadata": {},
   "source": [
    "# Homework 2\n",
    "\n",
    "### DUE: 02/16/2017 before class at 10:30am\n",
    "\n",
    "The objective of this homework is for gaining experiences in designing *streaming* algorithms. Similar to Homework 1, we’re going to use the Citibike data sets posted on NYU Classes. In addition to **citibike.csv** we will also use **citibike_docking_events.csv**. Both of the data sets can be downloaded from the NYU Classes's Resources page. You are required to turn in this notebook with all the parts filled in place of <###>. Your notebook must be named BDM\\_HW2\\_**NetId**.ipynb.\n",
    "\n",
    "\n",
    "\n",
    "## Task 1 (6 points)\n",
    "\n",
    "Your task is to **compute the maximum number of active \"citibikers\"** that were using the Citibike service at any point in time. This is the same as computing the maximum number of citibikes that were checked out at a particular time. The input data set is **citibike_docking_events.csv**, which logged all docking and undocking events at all Citibike stations. The description of the fields in this file is as follows:\n",
    "\n",
    "|Column name|Description|\n",
    "|--|--|\n",
    "|time |The timestamp of the event. All events are sorted increasingly by their timestamps. |\n",
    "|bikeid |The unique ID of the bike involved in this event. |\n",
    "|station_id |The station ID, where the event happened. |\n",
    "|event |A string of either *\"dock\"* or *\"undock\"* for describing the drop-off or pick-up event, respectively. |\n",
    "\n",
    "For example, let's assume that on *Feb-01-2015*, there was a user that picked a bike at the station ID *521* at midnight and dropped it at the station ID *423* at 14 minutes past midnight. If the bike that this customer used has the ID of *17131*, then you should see two events being logged in this data set as:\n",
    "\n",
    "<pre>\n",
    "...\n",
    "2015-02-01 00:00:00+00,17131,521,undock\n",
    "...\n",
    "2015-02-01 00:14:00+00,17131,423,dock\n",
    "...\n",
    "</pre>\n",
    "\n",
    "You are given the above data set in a streaming fashion (reading in row by row), and must design a streaming algorithm that uses the least possible additional memory to compute the maximum number of active users of the Citibike service. Please modify the code snippet below to complete this task. Your code should only output a single number, which is the number of active users. Of course, you can add additional initialization codes outside of the for loop as needed.\n",
    "Additional, please provide a brief rationale and/or justification for your design after the code."
   ]
  },
  {
   "cell_type": "code",
   "execution_count": 14,
   "metadata": {
    "collapsed": false
   },
   "outputs": [
    {
     "name": "stdout",
     "output_type": "stream",
     "text": [
      "250\n"
     ]
    }
   ],
   "source": [
    "import csv\n",
    "\n",
    "def csvRows(filename):\n",
    "    with open(filename, 'r') as fi:\n",
    "        reader = csv.DictReader(fi)\n",
    "        for row in reader:\n",
    "            yield row\n",
    "            \n",
    "\n",
    "maxActiveUsers = 0\n",
    "activeUsers = 0\n",
    "\n",
    "for row in csvRows('citibike_docking_events.csv'):\n",
    "    if row['event'] == 'undock':\n",
    "        activeUsers += 1\n",
    "    elif row['event'] == 'dock':\n",
    "        activeUsers -=1\n",
    "    \n",
    "    if activeUsers > maxActiveUsers:\n",
    "        maxActiveUsers = activeUsers\n",
    "\n",
    "\n",
    "print maxActiveUsers"
   ]
  },
  {
   "cell_type": "markdown",
   "metadata": {},
   "source": [
    "#### RATIONALE AND JUSTIFICATION\n",
    "\n",
    "To find the maximum number of active users, I used an accumulator, *activeUsers*. If the record event is 'undock', the *activeUsers* will add 1, otherwise if 'dock' it will  subtract 1. \n",
    "\n",
    "The value of the accumulator is being stored inside the variable *maxActiveUsers*. The variable *maxActiveUsers* will continue to update until the accumulator has a lesser value. At which point the *maxActiveUsers* would have reached its peak value. "
   ]
  },
  {
   "cell_type": "markdown",
   "metadata": {},
   "source": [
    "## Task 2 (4 points)\n",
    "\n",
    "The objective of this task is identical to Task 1's but you are asked to use the **cibibike.csv** data set instead of the docking events. The main difference (and challenge) is that both pick-up and drop-off event for each trip is now presented as a single record, thus, the drop-off events are not sorted by their timestamps. You are again asked to do this in a streaming fashion that needs to minimize the amount of memory usage. Please modify the code below accordingly, and also with a brief explaination of the solution."
   ]
  },
  {
   "cell_type": "code",
   "execution_count": 21,
   "metadata": {
    "collapsed": false
   },
   "outputs": [
    {
     "name": "stdout",
     "output_type": "stream",
     "text": [
      "250\n"
     ]
    }
   ],
   "source": [
    "import csv\n",
    "import datetime\n",
    "\n",
    "def csvRows(filename):\n",
    "    with open(filename, 'r') as fi:\n",
    "        reader = csv.DictReader(fi)\n",
    "        for row in reader:\n",
    "            yield row\n",
    "\n",
    "maxActiveUsers = 0\n",
    "times = []\n",
    "\n",
    "for row in csvRows('citibike.csv'):\n",
    "    start = datetime.datetime.strptime(row['starttime'],'%Y-%m-%d %H:%M:%S+00')\n",
    "    stop = datetime.datetime.strptime(row['stoptime'],'%Y-%m-%d %H:%M:%S+00')\n",
    "    times.append(stop)\n",
    "    \n",
    "    times = filter(lambda x: x > start, times)\n",
    "    \n",
    "    if len(times) > maxActiveUsers:\n",
    "        maxActiveUsers = len(times)\n",
    "\n",
    "        \n",
    "print maxActiveUsers"
   ]
  },
  {
   "cell_type": "markdown",
   "metadata": {},
   "source": [
    "#### RATIONALE AND JUSTIFICATION\n",
    "\n",
    "To separate the docking and undocking events, the start and stop times must first be reformatted. For every row in the dataset, I am appending an empty list called *times* with all of the docking events. \n",
    "\n",
    "While the time of docked events is greater than the that of undocking events, update the list and store the values in the variable *maxActiveUsers* until the number of *times* values is lower than *maxActiveUsers*. *maxActiveUsers* will return the maximum length of the *times* list."
   ]
  }
 ],
 "metadata": {
  "anaconda-cloud": {},
  "kernelspec": {
   "display_name": "Python [ipykernel_py2]",
   "language": "python",
   "name": "Python [ipykernel_py2]"
  },
  "language_info": {
   "codemirror_mode": {
    "name": "ipython",
    "version": 2
   },
   "file_extension": ".py",
   "mimetype": "text/x-python",
   "name": "python",
   "nbconvert_exporter": "python",
   "pygments_lexer": "ipython2",
   "version": "2.7.13"
  }
 },
 "nbformat": 4,
 "nbformat_minor": 0
}
